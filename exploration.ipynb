{
 "cells": [
  {
   "cell_type": "markdown",
   "metadata": {
    "collapsed": true
   },
   "source": []
  },
  {
   "cell_type": "markdown",
   "metadata": {
    "collapsed": true
   },
   "source": [
    "Task description.\n"
   ]
  },
  {
   "cell_type": "markdown",
   "metadata": {
    "collapsed": true
   },
   "source": [
    "Step 1: Identify Cat And Dog Owners\n",
    "Find the users who are cat and/or dog owners.\n",
    "Step 2: Build And Evaluate Classifiers\n",
    "Build classifiers for the cat and dog owners and measure the performance of the classifiers.\n",
    "Step 3: Classify All The Users\n",
    "Apply the cat/dog classifiers to all the users in the dataset. Estimate the fraction of all users\n",
    "who are cat/dog owners.\n",
    "Step 4: Extract Insights About Cat And Dog Owners\n",
    "Find topics important to cat and dog owners.\n",
    "Step 5: Identify Creators With Cat And Dog Owners In The Audience\n",
    "Find creators with the most cat and/or dog owners. Find creators with the highest statistically\n",
    "significant percentages of cat and/or dog owners.\n"
   ]
  },
  {
   "cell_type": "markdown",
   "metadata": {
    "collapsed": true
   },
   "source": [
    "Import necessary packages.\n"
   ]
  },
  {
   "cell_type": "code",
   "execution_count": 15,
   "metadata": {
    "collapsed": true
   },
   "outputs": [],
   "source": [
    "from pyspark.sql import SparkSession\n",
    "from pyspark.ml.feature import OneHotEncoderEstimator, StringIndexer\n",
    "from pyspark.ml.feature import RegexTokenizer, CountVectorizer, Tokenizer\n",
    "from pyspark.sql.functions import col\n",
    "from pyspark.ml.feature import VectorAssembler\n",
    "from pyspark.ml.feature import  IDF\n",
    "from pyspark.ml import Pipeline\n",
    "from pyspark.ml.feature import StopWordsRemover\n",
    "from pyspark.sql.functions import desc\n",
    "from pyspark.ml.clustering import KMeans\n",
    "from pyspark.ml.clustering import LDA\n",
    "from pyspark.ml.evaluation import ClusteringEvaluator\n",
    "from pyspark.ml.clustering import BisectingKMeans\n",
    "from pyspark.ml.classification import LogisticRegression\n",
    "import matplotlib.pyplot as plt\n",
    "import numpy as np"
   ]
  },
  {
   "cell_type": "markdown",
   "metadata": {
    "collapsed": true
   },
   "source": [
    "Hadoop enables distributed, low-cost storage for this growing amount of unstructured data. In this post, I'll show one way to analyze unstructured data using Apache Spark. Spark is advantageous for text analytics because it provides a platform for scalable, distributed computing. \n"
   ]
  },
  {
   "cell_type": "code",
   "execution_count": 3,
   "metadata": {
    "collapsed": true
   },
   "outputs": [
    {
     "name": "stdout",
     "output_type": "stream",
     "text": [
      "CPU times: user 6 µs, sys: 2 µs, total: 8 µs\nWall time: 15.5 µs\n"
     ]
    },
    {
     "name": "stdout",
     "output_type": "stream",
     "text": [
      "2.3.1\n"
     ]
    }
   ],
   "source": [
    "%time\n",
    "spark = SparkSession \\\n",
    "    .builder \\\n",
    "    .master('local[*]') \\\n",
    "    .appName(\"Text_Classification\") \\\n",
    "    .config(\"spark.executor.memory\", \"8g\") \\\n",
    "    .getOrCreate()\n",
    "\n",
    "spark.sparkContext.setLogLevel('WARN')\n",
    "\n",
    "print(spark.version)"
   ]
  },
  {
   "cell_type": "code",
   "execution_count": 4,
   "metadata": {
    "collapsed": true
   },
   "outputs": [
    {
     "name": "stdout",
     "output_type": "stream",
     "text": [
      "Number of documents read in is: 5820036\n"
     ]
    }
   ],
   "source": [
    "path = '/home/okravchenko/text_classification/data'\n",
    "data = spark.read.csv([path])\n",
    "print(\"Number of documents read in is:\", data.count())"
   ]
  },
  {
   "cell_type": "markdown",
   "metadata": {
    "collapsed": false
   },
   "source": [
    "Data exploration.\n"
   ]
  },
  {
   "cell_type": "code",
   "execution_count": 3,
   "metadata": {
    "collapsed": false
   },
   "outputs": [
    {
     "name": "stdout",
     "output_type": "stream",
     "text": [
      "root\n |-- _c0: string (nullable = true)\n |-- _c1: string (nullable = true)\n |-- _c2: string (nullable = true)\n\n"
     ]
    }
   ],
   "source": [
    "data.printSchema()\n"
   ]
  },
  {
   "cell_type": "code",
   "execution_count": 5,
   "metadata": {},
   "outputs": [
    {
     "data": {
      "text/plain": [
       "[Row(_c0='creator_name', _c1='userid', _c2='comment'),\n Row(_c0='Doug The Pug', _c1=' 87', _c2='I shared this to my friends and mom the were lol'),\n Row(_c0='Doug The Pug', _c1=' 87', _c2='Super cute  😀🐕🐶'),\n Row(_c0='bulletproof', _c1=' 530', _c2='stop saying get em youre literally dumb . have some common sense or dont own this kind of dog. fucking retarded I swear'),\n Row(_c0='Meu Zoológico', _c1=' 670', _c2='Tenho uma jiboia e um largato'),\n Row(_c0='ojatro', _c1=' 1031', _c2='I wanna see what happened to the pigs after that  please'),\n Row(_c0='Tingle Triggers', _c1=' 1212', _c2='Well shit now Im hungry'),\n Row(_c0='Hope For Paws - Official Rescue Channel', _c1=' 1806', _c2='when I saw the end it said to adopt  I saw different animal sites I was mad that they separated the cute little pups after being  together for a long time'),\n Row(_c0='Hope For Paws - Official Rescue Channel', _c1=' 2036', _c2='Holy crap. That is quite literally the most adorable pup Ive ever seen.'),\n Row(_c0='Life Story', _c1=' 2637', _c2='武器はクエストで貰えるんじゃないんですか？'),\n Row(_c0='Brian Barczyk', _c1=' 2698', _c2='Call the teddy Larry'),\n Row(_c0='The Dodo', _c1=' 2702', _c2='😐🤔😓😢😭😭😭😭😟'),\n Row(_c0='Hope For Paws - Official Rescue Channel', _c1=' 2911', _c2='That mother cat looks like my own Im guessing she is a russian blue due to her looks and unusual coping skills.'),\n Row(_c0='Hope For Paws - Official Rescue Channel', _c1=' 2911', _c2='Its people like Hope For Paws who truly make the world a better place <3'),\n Row(_c0='Talking Kitty Cat', _c1=' 2911', _c2='steve: No wet food for a month!:cats immediately stop fighting:'),\n Row(_c0='Brave Wilderness', _c1=' 3224', _c2='Dont call this a challenge because there will be idiots who actually try this'),\n Row(_c0='MaxluvsMya', _c1=' 3267', _c2='why are you always awake so late lol'),\n Row(_c0='Rise Up Society Fan Page', _c1=' 3372', _c2='Deb Tucker'),\n Row(_c0='The Dodo', _c1=' 3466', _c2='Thats a deer isnt it?'),\n Row(_c0='Brave Wilderness', _c1=' 3466', _c2='there is no safe way to hold a crab. Somehow they will always manage to nip you!'),\n Row(_c0='Brave Wilderness', _c1=' 3466', _c2='Red before yellow will kill a fellow...Some of you will get this ;)'),\n Row(_c0='Brian Barczyk', _c1=' 3589', _c2='Im 7 and I love your videosAnd love your snakes'),\n Row(_c0='Info Marvel', _c1=' 4504', _c2='Falto deadpool en el trairler'),\n Row(_c0='Gohan The Husky', _c1=' 4533', _c2='2:35 Why do you leave the TV on if you are not at home?......'),\n Row(_c0='Brave Wilderness', _c1=' 4900', _c2='No its because of me. JK :D Congrats'),\n Row(_c0='Vet Ranch', _c1=' 5005', _c2='can he hear ?'),\n Row(_c0='Taylor Nicole Dean', _c1=' 5697', _c2='amazing family you have'),\n Row(_c0='Vet Ranch', _c1=' 5960', _c2='29 likes and 3 views??'),\n Row(_c0='TOMMYfromtheBRONX', _c1=' 6835', _c2='Good on ya Tommy boy!!'),\n Row(_c0='GoHerping', _c1=' 7841', _c2='Can I call you meme daddy'),\n Row(_c0='GoHerping', _c1=' 7841', _c2='your becoming a meme channel I love it'),\n Row(_c0='Brave Wilderness', _c1=' 8786', _c2='WOW I got dooped'),\n Row(_c0='Kitsune Kreations', _c1=' 8857', _c2='I will not put lyrics and I’m glad that heather is bi  ^^Would backup be possible?'),\n Row(_c0='Angel Hawk', _c1=' 8857', _c2='Is Vural a Serval or a hyena? I’m just curious'),\n Row(_c0='Kitsune Kreations', _c1=' 8857', _c2='Part 36 Graystripe X Firestar and if you call it a crack ship I will make you listen to my singing'),\n Row(_c0='The Dodo', _c1=' 8935', _c2='😱😻'),\n Row(_c0='ViralHog', _c1=' 9312', _c2='So pure ❤️❤️❤️❤️'),\n Row(_c0='Abbey Normal', _c1=' 9312', _c2='did the animal come to you and ask to be sacrificed? No. The animal didnt give itself to you.'),\n Row(_c0='Nathan Coffee', _c1=' 9431', _c2='Its so cute!!'),\n Row(_c0='HoppingHammy', _c1=' 9431', _c2='its ok girl we would rather wait for more vids and you feeling better than the opposite :)'),\n Row(_c0='Taylor Nicole Dean', _c1=' 9431', _c2='omg you can see casey simpson in the bottom right corner at 4:57'),\n Row(_c0='Cole & Marmalade', _c1=' 9431', _c2='cat drugs'),\n Row(_c0='Cole & Marmalade', _c1=' 9431', _c2='with the green screen you should somehow do cats in space! :P'),\n Row(_c0='Viktor Larkhill', _c1=' 10269', _c2='hey victor..you are wonderful human being..have no words to express the beautiful work that you are going.. you have inspired me in a way..I wish you and all your dogs great health and long long life.. love from India !'),\n Row(_c0='Taylor Nicole Dean', _c1=' 10336', _c2='I dont understand how you think she will make a good service dogs. SD are handled by a company here in Quebec (and given for free fully trained to people in need). For the first year they are fostered by families who expose them to as many things as possible and even then after a year the majority of them are deemed not fit for service work. They have to be ultra confident and never startled never afraid of anything etc... She seem like a good pet but the very opposite of what a service dog should be.'),\n Row(_c0='Keedes channel LIVE', _c1=' 10683', _c2='Аа'),\n Row(_c0='Keedes channel LIVE', _c1=' 10683', _c2='Я хочу зобрать Рыжыка'),\n Row(_c0='Brian Barczyk', _c1=' 10749', _c2='Do your boss let you do this'),\n Row(_c0='Rachel Fusaro', _c1=' 10765', _c2='Im not allowed to have a dog because of money and my apartment doesnt allow dogs!! WHAT DO I DO!!!!???!?!?!?!?'),\n Row(_c0='Zak Georges Dog Training rEvolution', _c1=' 10765', _c2='Storm is like a giant the other dog bb8(bba babya baby8 i dont know his name.)')]"
      ]
     },
     "execution_count": 5,
     "metadata": {},
     "output_type": "execute_result"
    }
   ],
   "source": [
    "data.head(50)"
   ]
  },
  {
   "cell_type": "code",
   "execution_count": 6,
   "metadata": {},
   "outputs": [
    {
     "data": {
      "text/plain": [
       "(3, ['_c0', '_c1', '_c2'])"
      ]
     },
     "execution_count": 11,
     "metadata": {},
     "output_type": "execute_result"
    }
   ],
   "source": [
    "len(data.columns), data.columns"
   ]
  },
  {
   "cell_type": "code",
   "execution_count": 7,
   "metadata": {},
   "outputs": [
    {
     "name": "stdout",
     "output_type": "stream",
     "text": [
      "+-------+--------------------+-----------------+--------------------+\n|summary|                 _c0|              _c1|                 _c2|\n+-------+--------------------+-----------------+--------------------+\n|  count|             5787986|          5819471|             5818985|\n|   mean|1.160987527582250...|1270216.870654716|            Infinity|\n| stddev|1.072166106440056...|733809.5444038915|                 NaN|\n|    min|      🙌º°˚* Have...|                1|                    |\n|    max|     😁😁😁😁😁😁😁\"|           userid|🧡🧡💛🧡💛🧡💛🧡?...|\n+-------+--------------------+-----------------+--------------------+\n\n"
     ]
    }
   ],
   "source": [
    "data.describe().show()"
   ]
  },
  {
   "cell_type": "markdown",
   "metadata": {
    "collapsed": false
   },
   "source": [
    "\n"
   ]
  },
  {
   "cell_type": "code",
   "execution_count": 5,
   "metadata": {
    "collapsed": false
   },
   "outputs": [
    {
     "name": "stdout",
     "output_type": "stream",
     "text": [
      "+-------------+-------------+-----------------------------------------------------------------------------------------------------------------------+\n|owner        |id_comentator|text                                                                                                                   |\n+-------------+-------------+-----------------------------------------------------------------------------------------------------------------------+\n|creator_name |userid       |comment                                                                                                                |\n|Doug The Pug | 87          |I shared this to my friends and mom the were lol                                                                       |\n|Doug The Pug | 87          |Super cute  😀🐕🐶                                                                                                     |\n|bulletproof  | 530         |stop saying get em youre literally dumb . have some common sense or dont own this kind of dog. fucking retarded I swear|\n|Meu Zoológico| 670         |Tenho uma jiboia e um largato                                                                                          |\n+-------------+-------------+-----------------------------------------------------------------------------------------------------------------------+\nonly showing top 5 rows\n\nCPU times: user 2.06 ms, sys: 606 µs, total: 2.67 ms\nWall time: 2.62 s\n"
     ]
    }
   ],
   "source": [
    "%%time\n",
    "data = data.withColumnRenamed('_c0', 'owner').withColumnRenamed('_c1', 'id_comentator').withColumnRenamed('_c2', 'text')\n",
    "data.show(5, truncate = False)"
   ]
  },
  {
   "cell_type": "code",
   "execution_count": null,
   "metadata": {
    "collapsed": true
   },
   "outputs": [
    {
     "name": "stdout",
     "output_type": "stream",
     "text": [
      "+-------------+--------------------+\n|        owner|                text|\n+-------------+--------------------+\n| creator_name|             comment|\n| Doug The Pug|I shared this to ...|\n| Doug The Pug|  Super cute  😀🐕🐶|\n|  bulletproof|stop saying get e...|\n|Meu Zoológico|Tenho uma jiboia ...|\n+-------------+--------------------+\nonly showing top 5 rows\n\n"
     ]
    }
   ],
   "source": [
    "#TODO perform language detection (fasttext library can be used)."
   ]
  },
  {
   "cell_type": "code",
   "execution_count": 5,
   "metadata": {
    "collapsed": true
   },
   "outputs": [
    {
     "name": "stdout",
     "output_type": "stream",
     "text": [
      "+---------------------------------------+-------+\n|                                  owner|  count|\n+---------------------------------------+-------+\n|                       Brave Wilderness|1048751|\n|                          Brian Barczyk| 386324|\n|                               The Dodo| 325071|\n|                     Taylor Nicole Dean| 235644|\n|Hope For Paws - Official Rescue Channel| 127731|\n|                            Info Marvel| 121353|\n|                           Robin Seplut| 116551|\n|                     꼬부기아빠 My Pet Diary| 102594|\n|                              Vet Ranch| 102127|\n|                        Gohan The Husky|  99580|\n|                               ViralHog|  87939|\n|                        Viktor Larkhill|  76341|\n|                      Talking Kitty Cat|  74315|\n|                    Keedes channel LIVE|  72829|\n|                              MonkeyBoo|  70173|\n|                               Mạnh CFM|  64826|\n|                  Gone to the Snow Dogs|  55244|\n|                           Mr. Max T.V.|  51365|\n|                       Cole & Marmalade|  50422|\n|                     Think Like A Horse|  48877|\n|                          RaleighLink14|  44152|\n|                             TobyTurner|  39711|\n|                             stacyvlogs|  37349|\n|                                Steff J|  32454|\n|                                   null|  32050|\n|                         Aquarium Co-Op|  29651|\n|                               HammyLux|  29487|\n|                         Top View Viral|  28792|\n|                                ViralBe|  28414|\n|                              Gnat Vova|  27655|\n|                    Solid Gold Aquatics|  26940|\n|                           Paws Channel|  26460|\n|                     The Pet Collective|  23990|\n|                              ÜNAL VLOG|  23691|\n|               Peter Caine Dog Training|  23354|\n|                       Loki the Red Fox|  22572|\n|                           Shehry Vlogs|  22266|\n|                                 LPE360|  21793|\n|                       SlideShow ForFun|  21342|\n|                         Big Cat Rescue|  20701|\n|                          Epic Wildlife|  19666|\n|                                   TCTV|  19334|\n|                         Kitten Academy|  19177|\n|                           Kyle Naegeli|  18720|\n|    Zak Georges Dog Training rEvolution|  18672|\n|                            NeSekret TV|  18513|\n|                            Happy Tails|  18367|\n|                    Gotcha The Cockatoo|  17979|\n|                             Real Shock|  17524|\n|                      Exploring Alabama|  16963|\n+---------------------------------------+-------+\nonly showing top 50 rows\n\n"
     ]
    }
   ],
   "source": [
    "data.groupBy(\"owner\") \\\n",
    "    .count() \\\n",
    "    .orderBy(col(\"count\").desc()) \\\n",
    "    .show(n=50, truncate=40)"
   ]
  },
  {
   "cell_type": "markdown",
   "metadata": {
    "collapsed": false
   },
   "source": [
    "I will drop commentator_id column as have assumptions that this data is not obligatory for the task.\n"
   ]
  },
  {
   "cell_type": "code",
   "execution_count": 6,
   "metadata": {
    "collapsed": false
   },
   "outputs": [
    {
     "name": "stdout",
     "output_type": "stream",
     "text": [
      "+-------------+--------------------+\n|        owner|                text|\n+-------------+--------------------+\n| creator_name|             comment|\n| Doug The Pug|I shared this to ...|\n| Doug The Pug|  Super cute  😀🐕🐶|\n|  bulletproof|stop saying get e...|\n|Meu Zoológico|Tenho uma jiboia ...|\n+-------------+--------------------+\nonly showing top 5 rows\n\n"
     ]
    }
   ],
   "source": [
    "drop_list = ['id_comentator']\n",
    "data = data.select([column for column in data.columns if column not in drop_list])\n",
    "data.show(5)"
   ]
  },
  {
   "cell_type": "markdown",
   "metadata": {
    "collapsed": true
   },
   "source": [
    "Fill na values.\n"
   ]
  },
  {
   "cell_type": "code",
   "execution_count": 7,
   "metadata": {
    "collapsed": true
   },
   "outputs": [
    {
     "name": "stdout",
     "output_type": "stream",
     "text": [
      "CPU times: user 6.44 ms, sys: 1.82 ms, total: 8.26 ms\nWall time: 8.82 s\n"
     ]
    }
   ],
   "source": [
    "%%time\n",
    "ownerMissing = data.where(col(\"owner\").isNull())\n",
    "data = data.na.drop(subset=[\"owner\"])\n",
    "data.count()\n",
    "textMissing = data.where(col(\"text\").isNull())\n",
    "data = data.na.drop(subset=[\"text\"])\n",
    "data.count()"
   ]
  },
  {
   "cell_type": "markdown",
   "metadata": {
    "collapsed": true
   },
   "source": [
    "Data pre-processing stages.\n",
    "1. Index owner id as numeric variable.\n",
    "2. Tokenization is the process of taking text (such as a sentence) and breaking it into individual terms (usually words). Let’s tokenize the messages and create a list of words of each message.\n",
    "3. CountVectorizer converts the list of tokens above to vectors of token counts.\n",
    "4. Remove stopwords. Elimninate short messages, digits, special characters and top-50.\n",
    "5. CountVEctorizer within clean data.\n",
    "6. TD-IDF. Numerical statistic that is intended to reflect how important a word is to a document in a collection or corpus."
   ]
  },
  {
   "cell_type": "code",
   "execution_count": 8,
   "metadata": {
    "collapsed": true
   },
   "outputs": [
    {
     "name": "stdout",
     "output_type": "stream",
     "text": [
      "+----------+--------------------+\n|ownerIndex|            features|\n+----------+--------------------+\n|    3811.0|(262144,[208],[5....|\n|      90.0|(262144,[34,310,2...|\n|      90.0|(262144,[14,168],...|\n|     835.0|(262144,[0,12,75,...|\n|     164.0|(262144,[7115,869...|\n|     176.0|(262144,[33,94,24...|\n|    1364.0|(262144,[64,232,1...|\n|       4.0|(262144,[14,25,30...|\n|       4.0|(262144,[63,97,18...|\n|     317.0|      (262144,[],[])|\n|       1.0|(262144,[188,3127...|\n|       2.0|      (262144,[],[])|\n|       4.0|(262144,[37,227,4...|\n|       4.0|(262144,[6,21,28,...|\n|      12.0|(262144,[136,160,...|\n|       0.0|(262144,[0,2,7,9,...|\n|      56.0|(262144,[36,651,5...|\n|      99.0|(262144,[18742],[...|\n|       2.0|(262144,[32,230,1...|\n|       0.0|(262144,[2,9,36,2...|\n+----------+--------------------+\nonly showing top 20 rows\n\nFinished\nCPU times: user 3.53 s, sys: 540 ms, total: 4.07 s\nWall time: 2min 39s\n"
     ]
    }
   ],
   "source": [
    "%%time\n",
    "stringIndexer = StringIndexer(inputCol=\"owner\", outputCol= \"owner\" + \"Index\")\n",
    "model = stringIndexer.fit(data)\n",
    "data = model.transform(data)\n",
    "\n",
    "tokenizer = Tokenizer(inputCol=\"text\", outputCol=\"words\")\n",
    "wordsDataFrame = tokenizer.transform(data)\n",
    "\n",
    "cv_tmp = CountVectorizer(inputCol=\"words\", outputCol=\"tmp_vectors\")\n",
    "cv_tmp_model = cv_tmp.fit(wordsDataFrame)\n",
    "\n",
    "top20 = list(cv_tmp_model.vocabulary[0:50])\n",
    "more_then_3_charachters = [word for word in cv_tmp_model.vocabulary if len(word) <= 3]\n",
    "contains_digits = [word for word in cv_tmp_model.vocabulary if any(char.isdigit() for char in word)]\n",
    "stopwords = [] \n",
    "stopwords = stopwords + top20 + more_then_3_charachters + contains_digits\n",
    "remover = StopWordsRemover(inputCol=\"words\", outputCol=\"filtered\", stopWords = stopwords)\n",
    "wordsDataFrame = remover.transform(wordsDataFrame)\n",
    "\n",
    "cv = CountVectorizer(inputCol=\"filtered\", outputCol=\"raw_features\")\n",
    "cvmodel = cv.fit(wordsDataFrame)\n",
    "df_vect = cvmodel.transform(wordsDataFrame)\n",
    "\n",
    "idf = IDF(inputCol=\"raw_features\", outputCol=\"features\")\n",
    "idfModel = idf.fit(df_vect)\n",
    "rescaledData = idfModel.transform(df_vect)\n",
    "rescaledData.select(\"ownerIndex\", \"features\").show()\n",
    "print('Finished')"
   ]
  },
  {
   "cell_type": "markdown",
   "metadata": {
    "collapsed": true
   },
   "source": [
    "Pipiline approach\n"
   ]
  },
  {
   "cell_type": "code",
   "execution_count": null,
   "metadata": {
    "collapsed": true
   },
   "outputs": [],
   "source": [
    "#stages = []\n",
    "#stringIndexer = StringIndexer(inputCol=\"owner\", outputCol= \"owner\" + \"Index\")\n",
    "#encoder = OneHotEncoderEstimator(inputCols=[stringIndexer.getOutputCol()], outputCols=[\"owner\" + \"classVec\"])\n",
    "#regexTokenizer = RegexTokenizer(inputCol=\"text\", outputCol=\"words\", pattern=\"\\\\W\")\n",
    "#TODO implement better stopwords solution\n",
    "#remover = StopWordsRemover(inputCol=\"words\", outputCol=\"filtered_words\")\n",
    "#countVectors = CountVectorizer(inputCol=\"filtered_words\", outputCol=\"rawFeatures\", vocabSize=10000, minDF=5)\n",
    "#idf = IDF(inputCol=\"rawFeatures\", outputCol=\"features\")\n",
    "#TODO IDF do not needed for unsupervized task?\n",
    "#stages += [stringIndexer, encoder, regexTokenizer, remover, countVectors, idf]\n",
    "\n",
    "#pipeline = Pipeline(stages=stages)\n",
    "#pipelineModel = pipeline.fit(data)\n",
    "#data = pipelineModel.transform(data)\n",
    "#data.show()"
   ]
  },
  {
   "cell_type": "markdown",
   "metadata": {
    "collapsed": true
   },
   "source": [
    "LDA\n"
   ]
  },
  {
   "cell_type": "markdown",
   "metadata": {
    "collapsed": true
   },
   "source": [
    "LDA attempts to do so by interpreting topics as unseen, or latent, distributions over all of the possible words (vocabulary) in all of the documents (corpus). This was originally developed for text analysis\n"
   ]
  },
  {
   "cell_type": "code",
   "execution_count": null,
   "metadata": {
    "collapsed": true
   },
   "outputs": [],
   "source": [
    "lda = LDA(k=2, \n",
    "          #seed=123, \n",
    "          #optimizer=\"em\", \n",
    "          featuresCol=\"vectors\")\n",
    "\n",
    "model = lda.fit(df_vect)\n",
    "\n",
    "#Print the topics in the model\n",
    "topics = model.describeTopics(maxTermsPerTopic = 15)\n",
    "print('Finished')\n"
   ]
  },
  {
   "cell_type": "code",
   "execution_count": 16,
   "metadata": {
    "collapsed": true
   },
   "outputs": [
    {
     "name": "stdout",
     "output_type": "stream",
     "text": [
      "Learned topics (as distributions over vocab of 262144 words):\n"
     ]
    }
   ],
   "source": [
    "print(\"Learned topics (as distributions over vocab of \" + str(model.vocabSize())\n",
    "      + \" words):\")"
   ]
  },
  {
   "cell_type": "code",
   "execution_count": 32,
   "metadata": {
    "collapsed": true
   },
   "outputs": [
    {
     "name": "stderr",
     "output_type": "stream",
     "text": [
      "ERROR:py4j.java_gateway:An error occurred while trying to connect to the Java server (127.0.0.1:37807)\nTraceback (most recent call last):\n  File \"/home/okravchenko/venv/text_classification/lib/python3.6/site-packages/py4j/java_gateway.py\", line 929, in _get_connection\n    connection = self.deque.pop()\nIndexError: pop from an empty deque\n\nDuring handling of the above exception, another exception occurred:\n\nTraceback (most recent call last):\n  File \"/home/okravchenko/venv/text_classification/lib/python3.6/site-packages/py4j/java_gateway.py\", line 1067, in start\n    self.socket.connect((self.address, self.port))\nConnectionRefusedError: [Errno 111] Connection refused\n"
     ]
    },
    {
     "ename": "Py4JNetworkError",
     "evalue": "An error occurred while trying to connect to the Java server (127.0.0.1:37807)",
     "traceback": [
      "\u001b[0;31m---------------------------------------------------------------------------\u001b[0m",
      "\u001b[0;31mIndexError\u001b[0m                                Traceback (most recent call last)",
      "\u001b[0;32m/home/okravchenko/venv/text_classification/lib/python3.6/site-packages/py4j/java_gateway.py\u001b[0m in \u001b[0;36m_get_connection\u001b[0;34m(self)\u001b[0m\n\u001b[1;32m    928\u001b[0m         \u001b[0;32mtry\u001b[0m\u001b[0;34m:\u001b[0m\u001b[0;34m\u001b[0m\u001b[0m\n\u001b[0;32m--> 929\u001b[0;31m             \u001b[0mconnection\u001b[0m \u001b[0;34m=\u001b[0m \u001b[0mself\u001b[0m\u001b[0;34m.\u001b[0m\u001b[0mdeque\u001b[0m\u001b[0;34m.\u001b[0m\u001b[0mpop\u001b[0m\u001b[0;34m(\u001b[0m\u001b[0;34m)\u001b[0m\u001b[0;34m\u001b[0m\u001b[0m\n\u001b[0m\u001b[1;32m    930\u001b[0m         \u001b[0;32mexcept\u001b[0m \u001b[0mIndexError\u001b[0m\u001b[0;34m:\u001b[0m\u001b[0;34m\u001b[0m\u001b[0m\n",
      "\u001b[0;31mIndexError\u001b[0m: pop from an empty deque",
      "\nDuring handling of the above exception, another exception occurred:\n",
      "\u001b[0;31mConnectionRefusedError\u001b[0m                    Traceback (most recent call last)",
      "\u001b[0;32m/home/okravchenko/venv/text_classification/lib/python3.6/site-packages/py4j/java_gateway.py\u001b[0m in \u001b[0;36mstart\u001b[0;34m(self)\u001b[0m\n\u001b[1;32m   1066\u001b[0m         \u001b[0;32mtry\u001b[0m\u001b[0;34m:\u001b[0m\u001b[0;34m\u001b[0m\u001b[0m\n\u001b[0;32m-> 1067\u001b[0;31m             \u001b[0mself\u001b[0m\u001b[0;34m.\u001b[0m\u001b[0msocket\u001b[0m\u001b[0;34m.\u001b[0m\u001b[0mconnect\u001b[0m\u001b[0;34m(\u001b[0m\u001b[0;34m(\u001b[0m\u001b[0mself\u001b[0m\u001b[0;34m.\u001b[0m\u001b[0maddress\u001b[0m\u001b[0;34m,\u001b[0m \u001b[0mself\u001b[0m\u001b[0;34m.\u001b[0m\u001b[0mport\u001b[0m\u001b[0;34m)\u001b[0m\u001b[0;34m)\u001b[0m\u001b[0;34m\u001b[0m\u001b[0m\n\u001b[0m\u001b[1;32m   1068\u001b[0m             \u001b[0mself\u001b[0m\u001b[0;34m.\u001b[0m\u001b[0mstream\u001b[0m \u001b[0;34m=\u001b[0m \u001b[0mself\u001b[0m\u001b[0;34m.\u001b[0m\u001b[0msocket\u001b[0m\u001b[0;34m.\u001b[0m\u001b[0mmakefile\u001b[0m\u001b[0;34m(\u001b[0m\u001b[0;34m\"rb\"\u001b[0m\u001b[0;34m)\u001b[0m\u001b[0;34m\u001b[0m\u001b[0m\n",
      "\u001b[0;31mConnectionRefusedError\u001b[0m: [Errno 111] Connection refused",
      "\nDuring handling of the above exception, another exception occurred:\n",
      "\u001b[0;31mPy4JNetworkError\u001b[0m                          Traceback (most recent call last)",
      "\u001b[0;32m<ipython-input-72-f83ddde55651>\u001b[0m in \u001b[0;36m<module>\u001b[0;34m()\u001b[0m\n\u001b[1;32m      1\u001b[0m \u001b[0;34m\u001b[0m\u001b[0m\n\u001b[0;32m----> 2\u001b[0;31m \u001b[0mdf_vect\u001b[0m\u001b[0;34m.\u001b[0m\u001b[0mshow\u001b[0m\u001b[0;34m(\u001b[0m\u001b[0;34m)\u001b[0m\u001b[0;34m\u001b[0m\u001b[0m\n\u001b[0m",
      "\u001b[0;32m/home/okravchenko/venv/text_classification/lib/python3.6/site-packages/pyspark/sql/dataframe.py\u001b[0m in \u001b[0;36mshow\u001b[0;34m(self, n, truncate, vertical)\u001b[0m\n\u001b[1;32m    348\u001b[0m         \"\"\"\n\u001b[1;32m    349\u001b[0m         \u001b[0;32mif\u001b[0m \u001b[0misinstance\u001b[0m\u001b[0;34m(\u001b[0m\u001b[0mtruncate\u001b[0m\u001b[0;34m,\u001b[0m \u001b[0mbool\u001b[0m\u001b[0;34m)\u001b[0m \u001b[0;32mand\u001b[0m \u001b[0mtruncate\u001b[0m\u001b[0;34m:\u001b[0m\u001b[0;34m\u001b[0m\u001b[0m\n\u001b[0;32m--> 350\u001b[0;31m             \u001b[0mprint\u001b[0m\u001b[0;34m(\u001b[0m\u001b[0mself\u001b[0m\u001b[0;34m.\u001b[0m\u001b[0m_jdf\u001b[0m\u001b[0;34m.\u001b[0m\u001b[0mshowString\u001b[0m\u001b[0;34m(\u001b[0m\u001b[0mn\u001b[0m\u001b[0;34m,\u001b[0m \u001b[0;36m20\u001b[0m\u001b[0;34m,\u001b[0m \u001b[0mvertical\u001b[0m\u001b[0;34m)\u001b[0m\u001b[0;34m)\u001b[0m\u001b[0;34m\u001b[0m\u001b[0m\n\u001b[0m\u001b[1;32m    351\u001b[0m         \u001b[0;32melse\u001b[0m\u001b[0;34m:\u001b[0m\u001b[0;34m\u001b[0m\u001b[0m\n\u001b[1;32m    352\u001b[0m             \u001b[0mprint\u001b[0m\u001b[0;34m(\u001b[0m\u001b[0mself\u001b[0m\u001b[0;34m.\u001b[0m\u001b[0m_jdf\u001b[0m\u001b[0;34m.\u001b[0m\u001b[0mshowString\u001b[0m\u001b[0;34m(\u001b[0m\u001b[0mn\u001b[0m\u001b[0;34m,\u001b[0m \u001b[0mint\u001b[0m\u001b[0;34m(\u001b[0m\u001b[0mtruncate\u001b[0m\u001b[0;34m)\u001b[0m\u001b[0;34m,\u001b[0m \u001b[0mvertical\u001b[0m\u001b[0;34m)\u001b[0m\u001b[0;34m)\u001b[0m\u001b[0;34m\u001b[0m\u001b[0m\n",
      "\u001b[0;32m/home/okravchenko/venv/text_classification/lib/python3.6/site-packages/py4j/java_gateway.py\u001b[0m in \u001b[0;36m__call__\u001b[0;34m(self, *args)\u001b[0m\n\u001b[1;32m   1253\u001b[0m             \u001b[0mproto\u001b[0m\u001b[0;34m.\u001b[0m\u001b[0mEND_COMMAND_PART\u001b[0m\u001b[0;34m\u001b[0m\u001b[0m\n\u001b[1;32m   1254\u001b[0m \u001b[0;34m\u001b[0m\u001b[0m\n\u001b[0;32m-> 1255\u001b[0;31m         \u001b[0manswer\u001b[0m \u001b[0;34m=\u001b[0m \u001b[0mself\u001b[0m\u001b[0;34m.\u001b[0m\u001b[0mgateway_client\u001b[0m\u001b[0;34m.\u001b[0m\u001b[0msend_command\u001b[0m\u001b[0;34m(\u001b[0m\u001b[0mcommand\u001b[0m\u001b[0;34m)\u001b[0m\u001b[0;34m\u001b[0m\u001b[0m\n\u001b[0m\u001b[1;32m   1256\u001b[0m         return_value = get_return_value(\n\u001b[1;32m   1257\u001b[0m             answer, self.gateway_client, self.target_id, self.name)\n",
      "\u001b[0;32m/home/okravchenko/venv/text_classification/lib/python3.6/site-packages/py4j/java_gateway.py\u001b[0m in \u001b[0;36msend_command\u001b[0;34m(self, command, retry, binary)\u001b[0m\n\u001b[1;32m    981\u001b[0m          \u001b[0;32mif\u001b[0m\u001b[0;31m \u001b[0m\u001b[0;31m`\u001b[0m\u001b[0mbinary\u001b[0m\u001b[0;31m`\u001b[0m \u001b[0;32mis\u001b[0m\u001b[0;31m \u001b[0m\u001b[0;31m`\u001b[0m\u001b[0;32mTrue\u001b[0m\u001b[0;31m`\u001b[0m\u001b[0;34m.\u001b[0m\u001b[0;34m\u001b[0m\u001b[0m\n\u001b[1;32m    982\u001b[0m         \"\"\"\n\u001b[0;32m--> 983\u001b[0;31m         \u001b[0mconnection\u001b[0m \u001b[0;34m=\u001b[0m \u001b[0mself\u001b[0m\u001b[0;34m.\u001b[0m\u001b[0m_get_connection\u001b[0m\u001b[0;34m(\u001b[0m\u001b[0;34m)\u001b[0m\u001b[0;34m\u001b[0m\u001b[0m\n\u001b[0m\u001b[1;32m    984\u001b[0m         \u001b[0;32mtry\u001b[0m\u001b[0;34m:\u001b[0m\u001b[0;34m\u001b[0m\u001b[0m\n\u001b[1;32m    985\u001b[0m             \u001b[0mresponse\u001b[0m \u001b[0;34m=\u001b[0m \u001b[0mconnection\u001b[0m\u001b[0;34m.\u001b[0m\u001b[0msend_command\u001b[0m\u001b[0;34m(\u001b[0m\u001b[0mcommand\u001b[0m\u001b[0;34m)\u001b[0m\u001b[0;34m\u001b[0m\u001b[0m\n",
      "\u001b[0;32m/home/okravchenko/venv/text_classification/lib/python3.6/site-packages/py4j/java_gateway.py\u001b[0m in \u001b[0;36m_get_connection\u001b[0;34m(self)\u001b[0m\n\u001b[1;32m    929\u001b[0m             \u001b[0mconnection\u001b[0m \u001b[0;34m=\u001b[0m \u001b[0mself\u001b[0m\u001b[0;34m.\u001b[0m\u001b[0mdeque\u001b[0m\u001b[0;34m.\u001b[0m\u001b[0mpop\u001b[0m\u001b[0;34m(\u001b[0m\u001b[0;34m)\u001b[0m\u001b[0;34m\u001b[0m\u001b[0m\n\u001b[1;32m    930\u001b[0m         \u001b[0;32mexcept\u001b[0m \u001b[0mIndexError\u001b[0m\u001b[0;34m:\u001b[0m\u001b[0;34m\u001b[0m\u001b[0m\n\u001b[0;32m--> 931\u001b[0;31m             \u001b[0mconnection\u001b[0m \u001b[0;34m=\u001b[0m \u001b[0mself\u001b[0m\u001b[0;34m.\u001b[0m\u001b[0m_create_connection\u001b[0m\u001b[0;34m(\u001b[0m\u001b[0;34m)\u001b[0m\u001b[0;34m\u001b[0m\u001b[0m\n\u001b[0m\u001b[1;32m    932\u001b[0m         \u001b[0;32mreturn\u001b[0m \u001b[0mconnection\u001b[0m\u001b[0;34m\u001b[0m\u001b[0m\n\u001b[1;32m    933\u001b[0m \u001b[0;34m\u001b[0m\u001b[0m\n",
      "\u001b[0;32m/home/okravchenko/venv/text_classification/lib/python3.6/site-packages/py4j/java_gateway.py\u001b[0m in \u001b[0;36m_create_connection\u001b[0;34m(self)\u001b[0m\n\u001b[1;32m    935\u001b[0m         connection = GatewayConnection(\n\u001b[1;32m    936\u001b[0m             self.gateway_parameters, self.gateway_property)\n\u001b[0;32m--> 937\u001b[0;31m         \u001b[0mconnection\u001b[0m\u001b[0;34m.\u001b[0m\u001b[0mstart\u001b[0m\u001b[0;34m(\u001b[0m\u001b[0;34m)\u001b[0m\u001b[0;34m\u001b[0m\u001b[0m\n\u001b[0m\u001b[1;32m    938\u001b[0m         \u001b[0;32mreturn\u001b[0m \u001b[0mconnection\u001b[0m\u001b[0;34m\u001b[0m\u001b[0m\n\u001b[1;32m    939\u001b[0m \u001b[0;34m\u001b[0m\u001b[0m\n",
      "\u001b[0;32m/home/okravchenko/venv/text_classification/lib/python3.6/site-packages/py4j/java_gateway.py\u001b[0m in \u001b[0;36mstart\u001b[0;34m(self)\u001b[0m\n\u001b[1;32m   1077\u001b[0m                 \u001b[0;34m\"server ({0}:{1})\"\u001b[0m\u001b[0;34m.\u001b[0m\u001b[0mformat\u001b[0m\u001b[0;34m(\u001b[0m\u001b[0mself\u001b[0m\u001b[0;34m.\u001b[0m\u001b[0maddress\u001b[0m\u001b[0;34m,\u001b[0m \u001b[0mself\u001b[0m\u001b[0;34m.\u001b[0m\u001b[0mport\u001b[0m\u001b[0;34m)\u001b[0m\u001b[0;34m\u001b[0m\u001b[0m\n\u001b[1;32m   1078\u001b[0m             \u001b[0mlogger\u001b[0m\u001b[0;34m.\u001b[0m\u001b[0mexception\u001b[0m\u001b[0;34m(\u001b[0m\u001b[0mmsg\u001b[0m\u001b[0;34m)\u001b[0m\u001b[0;34m\u001b[0m\u001b[0m\n\u001b[0;32m-> 1079\u001b[0;31m             \u001b[0;32mraise\u001b[0m \u001b[0mPy4JNetworkError\u001b[0m\u001b[0;34m(\u001b[0m\u001b[0mmsg\u001b[0m\u001b[0;34m,\u001b[0m \u001b[0me\u001b[0m\u001b[0;34m)\u001b[0m\u001b[0;34m\u001b[0m\u001b[0m\n\u001b[0m\u001b[1;32m   1080\u001b[0m \u001b[0;34m\u001b[0m\u001b[0m\n\u001b[1;32m   1081\u001b[0m     \u001b[0;32mdef\u001b[0m \u001b[0m_authenticate_connection\u001b[0m\u001b[0;34m(\u001b[0m\u001b[0mself\u001b[0m\u001b[0;34m)\u001b[0m\u001b[0;34m:\u001b[0m\u001b[0;34m\u001b[0m\u001b[0m\n",
      "\u001b[0;31mPy4JNetworkError\u001b[0m: An error occurred while trying to connect to the Java server (127.0.0.1:37807)"
     ],
     "output_type": "error"
    }
   ],
   "source": [
    "wordNumbers = 10\n",
    "topicIndices = model.describeTopics(maxTermsPerTopic = wordNumbers)"
   ]
  },
  {
   "cell_type": "code",
   "execution_count": 43,
   "metadata": {
    "collapsed": true
   },
   "outputs": [
    {
     "name": "stderr",
     "output_type": "stream",
     "text": [
      "ERROR:py4j.java_gateway:An error occurred while trying to connect to the Java server (127.0.0.1:37807)\nTraceback (most recent call last):\n  File \"/home/okravchenko/venv/text_classification/lib/python3.6/site-packages/py4j/java_gateway.py\", line 929, in _get_connection\n    connection = self.deque.pop()\nIndexError: pop from an empty deque\n\nDuring handling of the above exception, another exception occurred:\n\nTraceback (most recent call last):\n  File \"/home/okravchenko/venv/text_classification/lib/python3.6/site-packages/py4j/java_gateway.py\", line 1067, in start\n    self.socket.connect((self.address, self.port))\nConnectionRefusedError: [Errno 111] Connection refused\n"
     ]
    },
    {
     "ename": "Py4JNetworkError",
     "evalue": "An error occurred while trying to connect to the Java server (127.0.0.1:37807)",
     "traceback": [
      "\u001b[0;31m---------------------------------------------------------------------------\u001b[0m",
      "\u001b[0;31mIndexError\u001b[0m                                Traceback (most recent call last)",
      "\u001b[0;32m/home/okravchenko/venv/text_classification/lib/python3.6/site-packages/py4j/java_gateway.py\u001b[0m in \u001b[0;36m_get_connection\u001b[0;34m(self)\u001b[0m\n\u001b[1;32m    928\u001b[0m         \u001b[0;32mtry\u001b[0m\u001b[0;34m:\u001b[0m\u001b[0;34m\u001b[0m\u001b[0m\n\u001b[0;32m--> 929\u001b[0;31m             \u001b[0mconnection\u001b[0m \u001b[0;34m=\u001b[0m \u001b[0mself\u001b[0m\u001b[0;34m.\u001b[0m\u001b[0mdeque\u001b[0m\u001b[0;34m.\u001b[0m\u001b[0mpop\u001b[0m\u001b[0;34m(\u001b[0m\u001b[0;34m)\u001b[0m\u001b[0;34m\u001b[0m\u001b[0m\n\u001b[0m\u001b[1;32m    930\u001b[0m         \u001b[0;32mexcept\u001b[0m \u001b[0mIndexError\u001b[0m\u001b[0;34m:\u001b[0m\u001b[0;34m\u001b[0m\u001b[0m\n",
      "\u001b[0;31mIndexError\u001b[0m: pop from an empty deque",
      "\nDuring handling of the above exception, another exception occurred:\n",
      "\u001b[0;31mConnectionRefusedError\u001b[0m                    Traceback (most recent call last)",
      "\u001b[0;32m/home/okravchenko/venv/text_classification/lib/python3.6/site-packages/py4j/java_gateway.py\u001b[0m in \u001b[0;36mstart\u001b[0;34m(self)\u001b[0m\n\u001b[1;32m   1066\u001b[0m         \u001b[0;32mtry\u001b[0m\u001b[0;34m:\u001b[0m\u001b[0;34m\u001b[0m\u001b[0m\n\u001b[0;32m-> 1067\u001b[0;31m             \u001b[0mself\u001b[0m\u001b[0;34m.\u001b[0m\u001b[0msocket\u001b[0m\u001b[0;34m.\u001b[0m\u001b[0mconnect\u001b[0m\u001b[0;34m(\u001b[0m\u001b[0;34m(\u001b[0m\u001b[0mself\u001b[0m\u001b[0;34m.\u001b[0m\u001b[0maddress\u001b[0m\u001b[0;34m,\u001b[0m \u001b[0mself\u001b[0m\u001b[0;34m.\u001b[0m\u001b[0mport\u001b[0m\u001b[0;34m)\u001b[0m\u001b[0;34m)\u001b[0m\u001b[0;34m\u001b[0m\u001b[0m\n\u001b[0m\u001b[1;32m   1068\u001b[0m             \u001b[0mself\u001b[0m\u001b[0;34m.\u001b[0m\u001b[0mstream\u001b[0m \u001b[0;34m=\u001b[0m \u001b[0mself\u001b[0m\u001b[0;34m.\u001b[0m\u001b[0msocket\u001b[0m\u001b[0;34m.\u001b[0m\u001b[0mmakefile\u001b[0m\u001b[0;34m(\u001b[0m\u001b[0;34m\"rb\"\u001b[0m\u001b[0;34m)\u001b[0m\u001b[0;34m\u001b[0m\u001b[0m\n",
      "\u001b[0;31mConnectionRefusedError\u001b[0m: [Errno 111] Connection refused",
      "\nDuring handling of the above exception, another exception occurred:\n",
      "\u001b[0;31mPy4JNetworkError\u001b[0m                          Traceback (most recent call last)",
      "\u001b[0;32m<ipython-input-72-f83ddde55651>\u001b[0m in \u001b[0;36m<module>\u001b[0;34m()\u001b[0m\n\u001b[1;32m      1\u001b[0m \u001b[0;34m\u001b[0m\u001b[0m\n\u001b[0;32m----> 2\u001b[0;31m \u001b[0mdf_vect\u001b[0m\u001b[0;34m.\u001b[0m\u001b[0mshow\u001b[0m\u001b[0;34m(\u001b[0m\u001b[0;34m)\u001b[0m\u001b[0;34m\u001b[0m\u001b[0m\n\u001b[0m",
      "\u001b[0;32m/home/okravchenko/venv/text_classification/lib/python3.6/site-packages/pyspark/sql/dataframe.py\u001b[0m in \u001b[0;36mshow\u001b[0;34m(self, n, truncate, vertical)\u001b[0m\n\u001b[1;32m    348\u001b[0m         \"\"\"\n\u001b[1;32m    349\u001b[0m         \u001b[0;32mif\u001b[0m \u001b[0misinstance\u001b[0m\u001b[0;34m(\u001b[0m\u001b[0mtruncate\u001b[0m\u001b[0;34m,\u001b[0m \u001b[0mbool\u001b[0m\u001b[0;34m)\u001b[0m \u001b[0;32mand\u001b[0m \u001b[0mtruncate\u001b[0m\u001b[0;34m:\u001b[0m\u001b[0;34m\u001b[0m\u001b[0m\n\u001b[0;32m--> 350\u001b[0;31m             \u001b[0mprint\u001b[0m\u001b[0;34m(\u001b[0m\u001b[0mself\u001b[0m\u001b[0;34m.\u001b[0m\u001b[0m_jdf\u001b[0m\u001b[0;34m.\u001b[0m\u001b[0mshowString\u001b[0m\u001b[0;34m(\u001b[0m\u001b[0mn\u001b[0m\u001b[0;34m,\u001b[0m \u001b[0;36m20\u001b[0m\u001b[0;34m,\u001b[0m \u001b[0mvertical\u001b[0m\u001b[0;34m)\u001b[0m\u001b[0;34m)\u001b[0m\u001b[0;34m\u001b[0m\u001b[0m\n\u001b[0m\u001b[1;32m    351\u001b[0m         \u001b[0;32melse\u001b[0m\u001b[0;34m:\u001b[0m\u001b[0;34m\u001b[0m\u001b[0m\n\u001b[1;32m    352\u001b[0m             \u001b[0mprint\u001b[0m\u001b[0;34m(\u001b[0m\u001b[0mself\u001b[0m\u001b[0;34m.\u001b[0m\u001b[0m_jdf\u001b[0m\u001b[0;34m.\u001b[0m\u001b[0mshowString\u001b[0m\u001b[0;34m(\u001b[0m\u001b[0mn\u001b[0m\u001b[0;34m,\u001b[0m \u001b[0mint\u001b[0m\u001b[0;34m(\u001b[0m\u001b[0mtruncate\u001b[0m\u001b[0;34m)\u001b[0m\u001b[0;34m,\u001b[0m \u001b[0mvertical\u001b[0m\u001b[0;34m)\u001b[0m\u001b[0;34m)\u001b[0m\u001b[0;34m\u001b[0m\u001b[0m\n",
      "\u001b[0;32m/home/okravchenko/venv/text_classification/lib/python3.6/site-packages/py4j/java_gateway.py\u001b[0m in \u001b[0;36m__call__\u001b[0;34m(self, *args)\u001b[0m\n\u001b[1;32m   1253\u001b[0m             \u001b[0mproto\u001b[0m\u001b[0;34m.\u001b[0m\u001b[0mEND_COMMAND_PART\u001b[0m\u001b[0;34m\u001b[0m\u001b[0m\n\u001b[1;32m   1254\u001b[0m \u001b[0;34m\u001b[0m\u001b[0m\n\u001b[0;32m-> 1255\u001b[0;31m         \u001b[0manswer\u001b[0m \u001b[0;34m=\u001b[0m \u001b[0mself\u001b[0m\u001b[0;34m.\u001b[0m\u001b[0mgateway_client\u001b[0m\u001b[0;34m.\u001b[0m\u001b[0msend_command\u001b[0m\u001b[0;34m(\u001b[0m\u001b[0mcommand\u001b[0m\u001b[0;34m)\u001b[0m\u001b[0;34m\u001b[0m\u001b[0m\n\u001b[0m\u001b[1;32m   1256\u001b[0m         return_value = get_return_value(\n\u001b[1;32m   1257\u001b[0m             answer, self.gateway_client, self.target_id, self.name)\n",
      "\u001b[0;32m/home/okravchenko/venv/text_classification/lib/python3.6/site-packages/py4j/java_gateway.py\u001b[0m in \u001b[0;36msend_command\u001b[0;34m(self, command, retry, binary)\u001b[0m\n\u001b[1;32m    981\u001b[0m          \u001b[0;32mif\u001b[0m\u001b[0;31m \u001b[0m\u001b[0;31m`\u001b[0m\u001b[0mbinary\u001b[0m\u001b[0;31m`\u001b[0m \u001b[0;32mis\u001b[0m\u001b[0;31m \u001b[0m\u001b[0;31m`\u001b[0m\u001b[0;32mTrue\u001b[0m\u001b[0;31m`\u001b[0m\u001b[0;34m.\u001b[0m\u001b[0;34m\u001b[0m\u001b[0m\n\u001b[1;32m    982\u001b[0m         \"\"\"\n\u001b[0;32m--> 983\u001b[0;31m         \u001b[0mconnection\u001b[0m \u001b[0;34m=\u001b[0m \u001b[0mself\u001b[0m\u001b[0;34m.\u001b[0m\u001b[0m_get_connection\u001b[0m\u001b[0;34m(\u001b[0m\u001b[0;34m)\u001b[0m\u001b[0;34m\u001b[0m\u001b[0m\n\u001b[0m\u001b[1;32m    984\u001b[0m         \u001b[0;32mtry\u001b[0m\u001b[0;34m:\u001b[0m\u001b[0;34m\u001b[0m\u001b[0m\n\u001b[1;32m    985\u001b[0m             \u001b[0mresponse\u001b[0m \u001b[0;34m=\u001b[0m \u001b[0mconnection\u001b[0m\u001b[0;34m.\u001b[0m\u001b[0msend_command\u001b[0m\u001b[0;34m(\u001b[0m\u001b[0mcommand\u001b[0m\u001b[0;34m)\u001b[0m\u001b[0;34m\u001b[0m\u001b[0m\n",
      "\u001b[0;32m/home/okravchenko/venv/text_classification/lib/python3.6/site-packages/py4j/java_gateway.py\u001b[0m in \u001b[0;36m_get_connection\u001b[0;34m(self)\u001b[0m\n\u001b[1;32m    929\u001b[0m             \u001b[0mconnection\u001b[0m \u001b[0;34m=\u001b[0m \u001b[0mself\u001b[0m\u001b[0;34m.\u001b[0m\u001b[0mdeque\u001b[0m\u001b[0;34m.\u001b[0m\u001b[0mpop\u001b[0m\u001b[0;34m(\u001b[0m\u001b[0;34m)\u001b[0m\u001b[0;34m\u001b[0m\u001b[0m\n\u001b[1;32m    930\u001b[0m         \u001b[0;32mexcept\u001b[0m \u001b[0mIndexError\u001b[0m\u001b[0;34m:\u001b[0m\u001b[0;34m\u001b[0m\u001b[0m\n\u001b[0;32m--> 931\u001b[0;31m             \u001b[0mconnection\u001b[0m \u001b[0;34m=\u001b[0m \u001b[0mself\u001b[0m\u001b[0;34m.\u001b[0m\u001b[0m_create_connection\u001b[0m\u001b[0;34m(\u001b[0m\u001b[0;34m)\u001b[0m\u001b[0;34m\u001b[0m\u001b[0m\n\u001b[0m\u001b[1;32m    932\u001b[0m         \u001b[0;32mreturn\u001b[0m \u001b[0mconnection\u001b[0m\u001b[0;34m\u001b[0m\u001b[0m\n\u001b[1;32m    933\u001b[0m \u001b[0;34m\u001b[0m\u001b[0m\n",
      "\u001b[0;32m/home/okravchenko/venv/text_classification/lib/python3.6/site-packages/py4j/java_gateway.py\u001b[0m in \u001b[0;36m_create_connection\u001b[0;34m(self)\u001b[0m\n\u001b[1;32m    935\u001b[0m         connection = GatewayConnection(\n\u001b[1;32m    936\u001b[0m             self.gateway_parameters, self.gateway_property)\n\u001b[0;32m--> 937\u001b[0;31m         \u001b[0mconnection\u001b[0m\u001b[0;34m.\u001b[0m\u001b[0mstart\u001b[0m\u001b[0;34m(\u001b[0m\u001b[0;34m)\u001b[0m\u001b[0;34m\u001b[0m\u001b[0m\n\u001b[0m\u001b[1;32m    938\u001b[0m         \u001b[0;32mreturn\u001b[0m \u001b[0mconnection\u001b[0m\u001b[0;34m\u001b[0m\u001b[0m\n\u001b[1;32m    939\u001b[0m \u001b[0;34m\u001b[0m\u001b[0m\n",
      "\u001b[0;32m/home/okravchenko/venv/text_classification/lib/python3.6/site-packages/py4j/java_gateway.py\u001b[0m in \u001b[0;36mstart\u001b[0;34m(self)\u001b[0m\n\u001b[1;32m   1077\u001b[0m                 \u001b[0;34m\"server ({0}:{1})\"\u001b[0m\u001b[0;34m.\u001b[0m\u001b[0mformat\u001b[0m\u001b[0;34m(\u001b[0m\u001b[0mself\u001b[0m\u001b[0;34m.\u001b[0m\u001b[0maddress\u001b[0m\u001b[0;34m,\u001b[0m \u001b[0mself\u001b[0m\u001b[0;34m.\u001b[0m\u001b[0mport\u001b[0m\u001b[0;34m)\u001b[0m\u001b[0;34m\u001b[0m\u001b[0m\n\u001b[1;32m   1078\u001b[0m             \u001b[0mlogger\u001b[0m\u001b[0;34m.\u001b[0m\u001b[0mexception\u001b[0m\u001b[0;34m(\u001b[0m\u001b[0mmsg\u001b[0m\u001b[0;34m)\u001b[0m\u001b[0;34m\u001b[0m\u001b[0m\n\u001b[0;32m-> 1079\u001b[0;31m             \u001b[0;32mraise\u001b[0m \u001b[0mPy4JNetworkError\u001b[0m\u001b[0;34m(\u001b[0m\u001b[0mmsg\u001b[0m\u001b[0;34m,\u001b[0m \u001b[0me\u001b[0m\u001b[0;34m)\u001b[0m\u001b[0;34m\u001b[0m\u001b[0m\n\u001b[0m\u001b[1;32m   1080\u001b[0m \u001b[0;34m\u001b[0m\u001b[0m\n\u001b[1;32m   1081\u001b[0m     \u001b[0;32mdef\u001b[0m \u001b[0m_authenticate_connection\u001b[0m\u001b[0;34m(\u001b[0m\u001b[0mself\u001b[0m\u001b[0;34m)\u001b[0m\u001b[0;34m:\u001b[0m\u001b[0;34m\u001b[0m\u001b[0m\n",
      "\u001b[0;31mPy4JNetworkError\u001b[0m: An error occurred while trying to connect to the Java server (127.0.0.1:37807)"
     ],
     "output_type": "error"
    }
   ],
   "source": [
    "topicIndices.show()"
   ]
  },
  {
   "cell_type": "code",
   "execution_count": null,
   "metadata": {
    "collapsed": true
   },
   "outputs": [],
   "source": [
    "topics = model.topicsMatrix()\n",
    "\n",
    "\n",
    "for topic in range(3):\n",
    "    print(\"Topic \" + str(topic) + \":\")\n",
    "    for word in range(0, model.vocabSize()):\n",
    "        print(\" \" + str(topics[word][topic]))"
   ]
  },
  {
   "cell_type": "markdown",
   "metadata": {
    "collapsed": true
   },
   "source": [
    "PySpark has internal error on this stage.\n"
   ]
  },
  {
   "cell_type": "markdown",
   "metadata": {
    "collapsed": true
   },
   "source": [
    "K-means modelling\n",
    "\n"
   ]
  },
  {
   "cell_type": "markdown",
   "metadata": {
    "collapsed": true
   },
   "source": [
    "k-means works better for a data distribution possessing hyper-ellipsoidal shape \n"
   ]
  },
  {
   "cell_type": "code",
   "execution_count": null,
   "metadata": {
    "collapsed": true
   },
   "outputs": [],
   "source": [
    "k = 2\n",
    "kmeans = KMeans().setK(k).setSeed(1).setFeaturesCol(\"features\")\n",
    "model = kmeans.fit(rescaledData)\n",
    "centers = model.clusterCenters()\n",
    "\n",
    "print(\"Cluster Centers: \")\n",
    "for center in centers:\n",
    "    print(center)\n"
   ]
  },
  {
   "cell_type": "code",
   "execution_count": null,
   "metadata": {
    "collapsed": true
   },
   "outputs": [],
   "source": [
    "evaluator = ClusteringEvaluator()\n",
    "predictions = model.transform(rescaledData)\n",
    "silhouette = evaluator.evaluate(predictions)\n",
    "print(\"Silhouette with squared euclidean distance = \" + str(silhouette))\n"
   ]
  },
  {
   "cell_type": "markdown",
   "metadata": {
    "collapsed": true
   },
   "source": [
    "Silhouette coefficients (as these values are referred to as) near +1 indicate that the sample is far away from the neighboring clusters. A value of 0 indicates that the sample is on or very close to the decision boundary between two neighboring clusters and negative values indicate that those samples might have been assigned to the wrong cluster.\n"
   ]
  },
  {
   "cell_type": "code",
   "execution_count": 19,
   "metadata": {},
   "outputs": [
    {
     "name": "stdout",
     "output_type": "stream",
     "text": [
      "+--------------------+--------------------+----------+--------------------+--------------------+--------------------+--------------------+----------+\n|               owner|                text|ownerIndex|               words|            filtered|        raw_features|            features|prediction|\n+--------------------+--------------------+----------+--------------------+--------------------+--------------------+--------------------+----------+\n|        creator_name|             comment|    3811.0|           [comment]|           [comment]|(262144,[208],[1.0])|(262144,[208],[5....|         0|\n|        Doug The Pug|I shared this to ...|      90.0|[i, shared, this,...|[shared, friends,...|(262144,[34,310,2...|(262144,[34,310,2...|         0|\n|        Doug The Pug|  Super cute  😀🐕🐶|      90.0|[super, cute, , ?...|[super, cute, 😀?...|(262144,[14,168],...|(262144,[14,168],...|         0|\n|         bulletproof|stop saying get e...|     835.0|[stop, saying, ge...|[stop, saying, yo...|(262144,[0,12,75,...|(262144,[0,12,75,...|         0|\n|       Meu Zoológico|Tenho uma jiboia ...|     164.0|[tenho, uma, jibo...|[tenho, jiboia, l...|(262144,[7111,875...|(262144,[7111,875...|         0|\n|              ojatro|I wanna see what ...|     176.0|[i, wanna, see, w...|[wanna, happened,...|(262144,[33,94,24...|(262144,[33,94,24...|         0|\n|     Tingle Triggers|Well shit now Im ...|    1364.0|[well, shit, now,...|[well, shit, hungry]|(262144,[64,232,1...|(262144,[64,232,1...|         0|\n|Hope For Paws - O...|when I saw the en...|       4.0|[when, i, saw, th...|[said, adopt, dif...|(262144,[14,25,30...|(262144,[14,25,30...|         0|\n|Hope For Paws - O...|Holy crap. That i...|       4.0|[holy, crap., tha...|[holy, crap., qui...|(262144,[63,97,18...|(262144,[63,97,18...|         0|\n|          Life Story|武器はクエストで貰えるんじゃないん...|     317.0|[武器はクエストで貰えるんじゃない...|[武器はクエストで貰えるんじゃない...|      (262144,[],[])|      (262144,[],[])|         0|\n|       Brian Barczyk|Call the teddy Larry|       1.0|[call, the, teddy...|[call, teddy, larry]|(262144,[188,3129...|(262144,[188,3129...|         0|\n|            The Dodo|  😐🤔😓😢😭😭😭😭😟|       2.0|[😐🤔😓😢😭😭😭😭😟]|[😐🤔😓😢😭😭😭😭😟]|      (262144,[],[])|      (262144,[],[])|         0|\n|Hope For Paws - O...|That mother cat l...|       4.0|[that, mother, ca...|[mother, looks, g...|(262144,[37,227,4...|(262144,[37,227,4...|         0|\n|Hope For Paws - O...|Its people like H...|       4.0|[its, people, lik...|[people, hope, pa...|(262144,[6,21,28,...|(262144,[6,21,28,...|         0|\n|   Talking Kitty Cat|steve: No wet foo...|      12.0|[steve:, no, wet,...|[steve:, food, mo...|(262144,[136,160,...|(262144,[136,160,...|         0|\n|    Brave Wilderness|Dont call this a ...|       0.0|[dont, call, this...|[dont, call, chal...|(262144,[0,2,7,9,...|(262144,[0,2,7,9,...|         0|\n|          MaxluvsMya|why are you alway...|      56.0|[why, are, you, a...|[always, awake, l...|(262144,[36,651,5...|(262144,[36,651,5...|         0|\n|Rise Up Society F...|          Deb Tucker|      99.0|       [deb, tucker]|            [tucker]|(262144,[18669],[...|(262144,[18669],[...|         0|\n|            The Dodo|Thats a deer isnt...|       2.0|[thats, a, deer, ...| [thats, deer, isnt]|(262144,[32,230,1...|(262144,[32,230,1...|         0|\n|    Brave Wilderness|there is no safe ...|       0.0|[there, is, no, s...|[there, safe, hol...|(262144,[2,9,36,2...|(262144,[2,9,36,2...|         0|\n+--------------------+--------------------+----------+--------------------+--------------------+--------------------+--------------------+----------+\nonly showing top 20 rows\n\n"
     ]
    }
   ],
   "source": [
    "predictions.show()"
   ]
  },
  {
   "cell_type": "markdown",
   "metadata": {
    "collapsed": true
   },
   "source": [
    "BisectingKMeans\n"
   ]
  },
  {
   "cell_type": "code",
   "execution_count": 9,
   "metadata": {
    "collapsed": true
   },
   "outputs": [],
   "source": [
    "bkm = BisectingKMeans().setK(2).setSeed(1)\n",
    "model = bkm.fit(rescaledData)\n"
   ]
  },
  {
   "cell_type": "code",
   "execution_count": 10,
   "metadata": {},
   "outputs": [
    {
     "name": "stdout",
     "output_type": "stream",
     "text": [
      "Within Set Sum of Squared Errors = 5274651215.386315\n"
     ]
    }
   ],
   "source": [
    "cost = model.computeCost(rescaledData)\n",
    "print(\"Within Set Sum of Squared Errors = \" + str(cost))"
   ]
  },
  {
   "cell_type": "code",
   "execution_count": 11,
   "metadata": {},
   "outputs": [
    {
     "name": "stdout",
     "output_type": "stream",
     "text": [
      "Cluster Centers: \n"
     ]
    },
    {
     "name": "stdout",
     "output_type": "stream",
     "text": [
      "[8.53331854e-02 7.88765874e-02 7.71313244e-02 ... 4.99173650e-06\n 9.98347300e-06 9.98347300e-06]\n[1.34905471e+00 1.41399935e+00 1.28937830e+00 ... 1.44658858e-04\n 0.00000000e+00 0.00000000e+00]\n"
     ]
    }
   ],
   "source": [
    "print(\"Cluster Centers: \")\n",
    "centers = model.clusterCenters()\n",
    "for center in centers:\n",
    "    print(center)\n"
   ]
  },
  {
   "cell_type": "code",
   "execution_count": 12,
   "metadata": {},
   "outputs": [],
   "source": [
    "predictions_bi = model.transform(rescaledData)"
   ]
  },
  {
   "cell_type": "code",
   "execution_count": 14,
   "metadata": {
    "collapsed": true
   },
   "outputs": [
    {
     "name": "stdout",
     "output_type": "stream",
     "text": [
      "+--------------------+--------------------+----------+--------------------+--------------------+--------------------+--------------------+----------+\n|               owner|                text|ownerIndex|               words|            filtered|        raw_features|            features|prediction|\n+--------------------+--------------------+----------+--------------------+--------------------+--------------------+--------------------+----------+\n|        creator_name|             comment|    3811.0|           [comment]|           [comment]|(262144,[208],[1.0])|(262144,[208],[5....|         0|\n|        Doug The Pug|I shared this to ...|      90.0|[i, shared, this,...|[shared, friends,...|(262144,[34,310,2...|(262144,[34,310,2...|         0|\n|        Doug The Pug|  Super cute  😀🐕🐶|      90.0|[super, cute, , ?...|[super, cute, 😀?...|(262144,[14,168],...|(262144,[14,168],...|         0|\n|         bulletproof|stop saying get e...|     835.0|[stop, saying, ge...|[stop, saying, yo...|(262144,[0,12,75,...|(262144,[0,12,75,...|         0|\n|       Meu Zoológico|Tenho uma jiboia ...|     164.0|[tenho, uma, jibo...|[tenho, jiboia, l...|(262144,[7114,869...|(262144,[7114,869...|         0|\n|              ojatro|I wanna see what ...|     176.0|[i, wanna, see, w...|[wanna, happened,...|(262144,[33,94,24...|(262144,[33,94,24...|         0|\n|     Tingle Triggers|Well shit now Im ...|    1364.0|[well, shit, now,...|[well, shit, hungry]|(262144,[64,232,1...|(262144,[64,232,1...|         0|\n|Hope For Paws - O...|when I saw the en...|       4.0|[when, i, saw, th...|[said, adopt, dif...|(262144,[14,25,30...|(262144,[14,25,30...|         0|\n|Hope For Paws - O...|Holy crap. That i...|       4.0|[holy, crap., tha...|[holy, crap., qui...|(262144,[63,97,18...|(262144,[63,97,18...|         0|\n|          Life Story|武器はクエストで貰えるんじゃないん...|     317.0|[武器はクエストで貰えるんじゃない...|[武器はクエストで貰えるんじゃない...|      (262144,[],[])|      (262144,[],[])|         0|\n|       Brian Barczyk|Call the teddy Larry|       1.0|[call, the, teddy...|[call, teddy, larry]|(262144,[188,3127...|(262144,[188,3127...|         0|\n|            The Dodo|  😐🤔😓😢😭😭😭😭😟|       2.0|[😐🤔😓😢😭😭😭😭😟]|[😐🤔😓😢😭😭😭😭😟]|      (262144,[],[])|      (262144,[],[])|         0|\n|Hope For Paws - O...|That mother cat l...|       4.0|[that, mother, ca...|[mother, looks, g...|(262144,[37,227,4...|(262144,[37,227,4...|         0|\n|Hope For Paws - O...|Its people like H...|       4.0|[its, people, lik...|[people, hope, pa...|(262144,[6,21,28,...|(262144,[6,21,28,...|         0|\n|   Talking Kitty Cat|steve: No wet foo...|      12.0|[steve:, no, wet,...|[steve:, food, mo...|(262144,[136,160,...|(262144,[136,160,...|         0|\n|    Brave Wilderness|Dont call this a ...|       0.0|[dont, call, this...|[dont, call, chal...|(262144,[0,2,7,9,...|(262144,[0,2,7,9,...|         0|\n|          MaxluvsMya|why are you alway...|      56.0|[why, are, you, a...|[always, awake, l...|(262144,[36,651,5...|(262144,[36,651,5...|         0|\n|Rise Up Society F...|          Deb Tucker|      99.0|       [deb, tucker]|            [tucker]|(262144,[18742],[...|(262144,[18742],[...|         0|\n|            The Dodo|Thats a deer isnt...|       2.0|[thats, a, deer, ...| [thats, deer, isnt]|(262144,[32,230,1...|(262144,[32,230,1...|         0|\n|    Brave Wilderness|there is no safe ...|       0.0|[there, is, no, s...|[there, safe, hol...|(262144,[2,9,36,2...|(262144,[2,9,36,2...|         0|\n+--------------------+--------------------+----------+--------------------+--------------------+--------------------+--------------------+----------+\nonly showing top 20 rows\n\n"
     ]
    }
   ],
   "source": [
    "predictions_bi.show()"
   ]
  },
  {
   "cell_type": "code",
   "execution_count": 16,
   "metadata": {},
   "outputs": [
    {
     "name": "stdout",
     "output_type": "stream",
     "text": [
      "+----------+-------+\n|prediction|  count|\n+----------+-------+\n|         1| 191725|\n|         0|5595220|\n+----------+-------+\n\n"
     ]
    }
   ],
   "source": [
    "predictions_bi.groupBy(\"prediction\").count().show()"
   ]
  },
  {
   "cell_type": "code",
   "execution_count": 27,
   "metadata": {
    "collapsed": false
   },
   "outputs": [
    {
     "name": "stdout",
     "output_type": "stream",
     "text": [
      "+--------------------+--------------------+----------+--------------------+--------------------+--------------------+--------------------+----------+\n|               owner|                text|ownerIndex|               words|            filtered|        raw_features|            features|prediction|\n+--------------------+--------------------+----------+--------------------+--------------------+--------------------+--------------------+----------+\n|        creator_name|             comment|    3811.0|           [comment]|           [comment]|(262144,[208],[1.0])|(262144,[208],[5....|         0|\n|        Doug The Pug|I shared this to ...|      90.0|[i, shared, this,...|[shared, friends,...|(262144,[34,310,2...|(262144,[34,310,2...|         0|\n|        Doug The Pug|  Super cute  😀🐕🐶|      90.0|[super, cute, , ?...|[super, cute, 😀?...|(262144,[14,168],...|(262144,[14,168],...|         0|\n|         bulletproof|stop saying get e...|     835.0|[stop, saying, ge...|[stop, saying, yo...|(262144,[0,12,75,...|(262144,[0,12,75,...|         0|\n|       Meu Zoológico|Tenho uma jiboia ...|     164.0|[tenho, uma, jibo...|[tenho, jiboia, l...|(262144,[7114,869...|(262144,[7114,869...|         0|\n|              ojatro|I wanna see what ...|     176.0|[i, wanna, see, w...|[wanna, happened,...|(262144,[33,94,24...|(262144,[33,94,24...|         0|\n|     Tingle Triggers|Well shit now Im ...|    1364.0|[well, shit, now,...|[well, shit, hungry]|(262144,[64,232,1...|(262144,[64,232,1...|         0|\n|Hope For Paws - O...|when I saw the en...|       4.0|[when, i, saw, th...|[said, adopt, dif...|(262144,[14,25,30...|(262144,[14,25,30...|         0|\n|Hope For Paws - O...|Holy crap. That i...|       4.0|[holy, crap., tha...|[holy, crap., qui...|(262144,[63,97,18...|(262144,[63,97,18...|         0|\n|          Life Story|武器はクエストで貰えるんじゃないん...|     317.0|[武器はクエストで貰えるんじゃない...|[武器はクエストで貰えるんじゃない...|      (262144,[],[])|      (262144,[],[])|         0|\n|       Brian Barczyk|Call the teddy Larry|       1.0|[call, the, teddy...|[call, teddy, larry]|(262144,[188,3127...|(262144,[188,3127...|         0|\n|            The Dodo|  😐🤔😓😢😭😭😭😭😟|       2.0|[😐🤔😓😢😭😭😭😭😟]|[😐🤔😓😢😭😭😭😭😟]|      (262144,[],[])|      (262144,[],[])|         0|\n|Hope For Paws - O...|That mother cat l...|       4.0|[that, mother, ca...|[mother, looks, g...|(262144,[37,227,4...|(262144,[37,227,4...|         0|\n|Hope For Paws - O...|Its people like H...|       4.0|[its, people, lik...|[people, hope, pa...|(262144,[6,21,28,...|(262144,[6,21,28,...|         0|\n|   Talking Kitty Cat|steve: No wet foo...|      12.0|[steve:, no, wet,...|[steve:, food, mo...|(262144,[136,160,...|(262144,[136,160,...|         0|\n|    Brave Wilderness|Dont call this a ...|       0.0|[dont, call, this...|[dont, call, chal...|(262144,[0,2,7,9,...|(262144,[0,2,7,9,...|         0|\n|          MaxluvsMya|why are you alway...|      56.0|[why, are, you, a...|[always, awake, l...|(262144,[36,651,5...|(262144,[36,651,5...|         0|\n|Rise Up Society F...|          Deb Tucker|      99.0|       [deb, tucker]|            [tucker]|(262144,[18742],[...|(262144,[18742],[...|         0|\n|            The Dodo|Thats a deer isnt...|       2.0|[thats, a, deer, ...| [thats, deer, isnt]|(262144,[32,230,1...|(262144,[32,230,1...|         0|\n|    Brave Wilderness|there is no safe ...|       0.0|[there, is, no, s...|[there, safe, hol...|(262144,[2,9,36,2...|(262144,[2,9,36,2...|         0|\n+--------------------+--------------------+----------+--------------------+--------------------+--------------------+--------------------+----------+\nonly showing top 20 rows\n\n"
     ]
    }
   ],
   "source": [
    "p_0 = predictions_bi.filter(predictions_bi.prediction == 0)  \n",
    "p_0.show()"
   ]
  },
  {
   "cell_type": "code",
   "execution_count": 40,
   "metadata": {},
   "outputs": [
    {
     "name": "stdout",
     "output_type": "stream",
     "text": [
      "+-----------------+------+\n|         filtered| count|\n+-----------------+------+\n|               []|193399|\n|           [cute]| 23752|\n|          [first]| 10022|\n|           [nice]|  8356|\n|           [cool]|  8039|\n|        [awesome]|  5885|\n|         [coyote]|  5035|\n|          [great]|  4244|\n|      [beautiful]|  4103|\n|        [amazing]|  3858|\n|          [cute!]|  3722|\n|           [want]|  3450|\n|       [adorable]|  3163|\n|         [videos]|  2973|\n|           [keep]|  2939|\n|          [early]|  2770|\n|          [funny]|  2629|\n|          [hello]|  2319|\n|           [hola]|  2203|\n|          [bless]|  2184|\n|          [thank]|  2116|\n|          [sweet]|  2110|\n|           [awww]|  1983|\n|           [fake]|  1956|\n|    [give, shout]|  1836|\n|         [crying]|  1792|\n|           [much]|  1785|\n|           [best]|  1754|\n| [raptor, fossil]|  1733|\n|[happy, birthday]|  1696|\n|        [comment]|  1673|\n|          [crazy]|  1662|\n|        [channel]|  1638|\n|           [vids]|  1630|\n|           [made]|  1607|\n|           [mạnh]|  1548|\n|           [poor]|  1448|\n| [coyote, statue]|  1439|\n|       [awesome!]|  1429|\n|          [awwww]|  1425|\n|           [buen]|  1414|\n|  [quiero, funko]|  1400|\n|   [raptor, bone]|  1329|\n|          [sorry]|  1308|\n|          [brave]|  1277|\n|         [bowser]|  1264|\n|        [turtles]|  1248|\n| [give, shoutout]|  1241|\n|         [thanks]|  1209|\n|           [dogs]|  1201|\n+-----------------+------+\nonly showing top 50 rows\n\n"
     ]
    }
   ],
   "source": [
    "p_0.groupBy(\"filtered\") \\\n",
    "    .count() \\\n",
    "    .orderBy(col(\"count\").desc()) \\\n",
    "    .show(n=50, truncate=40)"
   ]
  },
  {
   "cell_type": "code",
   "execution_count": null,
   "metadata": {},
   "outputs": [],
   "source": [
    "#p_0 - dogs chanell"
   ]
  },
  {
   "cell_type": "markdown",
   "metadata": {},
   "source": [
    "Prediction modelling"
   ]
  },
  {
   "cell_type": "code",
   "execution_count": 25,
   "metadata": {},
   "outputs": [
    {
     "name": "stdout",
     "output_type": "stream",
     "text": [
      "+--------------------+--------------------+----------+--------------------+--------------------+--------------------+--------------------+----------+\n|               owner|                text|ownerIndex|               words|            filtered|        raw_features|            features|prediction|\n+--------------------+--------------------+----------+--------------------+--------------------+--------------------+--------------------+----------+\n|#CameraLord™ • Ko...|#CameraLord went ...|     238.0|[#cameralord, wen...|[#cameralord, wen...|(262144,[193,248,...|(262144,[193,248,...|         0|\n|#CameraLord™ • Ko...|#GANG SHITBIG 140...|     238.0|[#gang, shitbig, ...|[#gang, shitbig, ...|(262144,[5,153,58...|(262144,[5,153,58...|         0|\n|#CameraLord™ • Ko...|#MMR #SQUAD Lets ...|     238.0|[#mmr, #squad, le...|[#mmr, #squad, lets]|(262144,[411,2475...|(262144,[411,2475...|         0|\n|#CameraLord™ • Ko...|               #Mobb|     238.0|             [#mobb]|             [#mobb]|      (262144,[],[])|      (262144,[],[])|         0|\n|#CameraLord™ • Ko...|#gang R.I.P FBG B...|     238.0|[#gang, r.i.p, fb...|[#gang, r.i.p, br...|(262144,[1446,670...|(262144,[1446,670...|         0|\n|#CameraLord™ • Ko...|0:32 BRUH I thoug...|     238.0|[0:32, bruh, i, t...|[bruh, thought, b...|(262144,[104,1676...|(262144,[104,1676...|         0|\n|#CameraLord™ • Ko...|1400 GANG WE OUT ...|     238.0|[1400, gang, we, ...|        [gang, here]|(262144,[80,1892]...|(262144,[80,1892]...|         0|\n|#CameraLord™ • Ko...|1400 gang shitevi...|     238.0|[1400, gang, shit...|[gang, shitevil, ...|(262144,[78,80,37...|(262144,[78,80,37...|         0|\n|#CameraLord™ • Ko...|46k fuk all dead ...|     238.0|[46k, fuk, all, d...|[dead, opps, gudd...|(262144,[261,314,...|(262144,[261,314,...|         0|\n|#CameraLord™ • Ko...|600 on my shoes I...|     238.0|[600, on, my, sho...| [shoes, walk, opps]|(262144,[479,1801...|(262144,[479,1801...|         0|\n|#CameraLord™ • Ko...|           AZ ACTIVE|     238.0|        [az, active]|            [active]|(262144,[2016],[1...|(262144,[2016],[7...|         0|\n|#CameraLord™ • Ko...|           AZ reppin|     238.0|        [az, reppin]|            [reppin]|(262144,[52133],[...|(262144,[52133],[...|         0|\n|#CameraLord™ • Ko...|Adam22 brought me...|     238.0|[adam22, brought,...|[adam22, brought,...|(262144,[80,759],...|(262144,[80,759],...|         0|\n|#CameraLord™ • Ko...|Alright I see u B...|     238.0|[alright, i, see,...|[alright, billy, ...|(262144,[146,1558...|(262144,[146,1558...|         0|\n|#CameraLord™ • Ko...|Another banger......|     238.0|[another, banger....|[another, banger....|(262144,[22,113,1...|(262144,[22,113,1...|         0|\n|#CameraLord™ • Ko...|Anyone who says t...|     238.0|[anyone, who, say...|[anyone, says, ob...|(262144,[98,149,1...|(262144,[98,149,1...|         0|\n|#CameraLord™ • Ko...|            Awesome!|     238.0|          [awesome!]|          [awesome!]|(262144,[488],[1.0])|(262144,[488],[6....|         0|\n|#CameraLord™ • Ko...|Ayeee stand up Ar...|     238.0|[ayeee, stand, up...|[ayeee, stand, ar...|(262144,[13,73,95...|(262144,[13,73,95...|         0|\n|#CameraLord™ • Ko...|Ayyyyyyyyy. Good ...|     238.0|[ayyyyyyyyy., goo...|[ayyyyyyyyy., shi...|(262144,[1613,194...|(262144,[1613,194...|         0|\n|#CameraLord™ • Ko...|         Az rep 💯💪|     238.0|     [az, rep, 💯💪]|              [💯💪]|(262144,[250718],...|(262144,[250718],...|         0|\n+--------------------+--------------------+----------+--------------------+--------------------+--------------------+--------------------+----------+\nonly showing top 20 rows\n\n"
     ]
    }
   ],
   "source": [
    "(trainingData, testData) = predictions_bi.randomSplit([0.7, 0.3], seed = 100)\n",
    "print(\"Training Dataset Count: \" + str(trainingData.count()))\n",
    "print(\"Test Dataset Count: \" + str(testData.count()))"
   ]
  },
  {
   "cell_type": "code",
   "execution_count": 26,
   "metadata": {},
   "outputs": [
    {
     "name": "stdout",
     "output_type": "stream",
     "text": [
      "+--------------------+--------------------+----------+--------------------+--------------------+--------------------+--------------------+----------+\n|               owner|                text|ownerIndex|               words|            filtered|        raw_features|            features|prediction|\n+--------------------+--------------------+----------+--------------------+--------------------+--------------------+--------------------+----------+\n|#CameraLord™ • Ko...|#CameraLord went ...|     238.0|[#cameralord, wen...|[#cameralord, wen...|(262144,[193,248,...|(262144,[193,248,...|         0|\n|#CameraLord™ • Ko...|#GANG SHITBIG 140...|     238.0|[#gang, shitbig, ...|[#gang, shitbig, ...|(262144,[5,153,58...|(262144,[5,153,58...|         0|\n|#CameraLord™ • Ko...|#MMR #SQUAD Lets ...|     238.0|[#mmr, #squad, le...|[#mmr, #squad, lets]|(262144,[411,2475...|(262144,[411,2475...|         0|\n|#CameraLord™ • Ko...|               #Mobb|     238.0|             [#mobb]|             [#mobb]|      (262144,[],[])|      (262144,[],[])|         0|\n|#CameraLord™ • Ko...|#gang R.I.P FBG B...|     238.0|[#gang, r.i.p, fb...|[#gang, r.i.p, br...|(262144,[1446,670...|(262144,[1446,670...|         0|\n|#CameraLord™ • Ko...|0:32 BRUH I thoug...|     238.0|[0:32, bruh, i, t...|[bruh, thought, b...|(262144,[104,1676...|(262144,[104,1676...|         0|\n|#CameraLord™ • Ko...|1400 GANG WE OUT ...|     238.0|[1400, gang, we, ...|        [gang, here]|(262144,[80,1892]...|(262144,[80,1892]...|         0|\n|#CameraLord™ • Ko...|1400 gang shitevi...|     238.0|[1400, gang, shit...|[gang, shitevil, ...|(262144,[78,80,37...|(262144,[78,80,37...|         0|\n|#CameraLord™ • Ko...|46k fuk all dead ...|     238.0|[46k, fuk, all, d...|[dead, opps, gudd...|(262144,[261,314,...|(262144,[261,314,...|         0|\n|#CameraLord™ • Ko...|600 on my shoes I...|     238.0|[600, on, my, sho...| [shoes, walk, opps]|(262144,[479,1801...|(262144,[479,1801...|         0|\n|#CameraLord™ • Ko...|           AZ ACTIVE|     238.0|        [az, active]|            [active]|(262144,[2016],[1...|(262144,[2016],[7...|         0|\n|#CameraLord™ • Ko...|           AZ reppin|     238.0|        [az, reppin]|            [reppin]|(262144,[52133],[...|(262144,[52133],[...|         0|\n|#CameraLord™ • Ko...|Adam22 brought me...|     238.0|[adam22, brought,...|[adam22, brought,...|(262144,[80,759],...|(262144,[80,759],...|         0|\n|#CameraLord™ • Ko...|Alright I see u B...|     238.0|[alright, i, see,...|[alright, billy, ...|(262144,[146,1558...|(262144,[146,1558...|         0|\n|#CameraLord™ • Ko...|Another banger......|     238.0|[another, banger....|[another, banger....|(262144,[22,113,1...|(262144,[22,113,1...|         0|\n|#CameraLord™ • Ko...|Anyone who says t...|     238.0|[anyone, who, say...|[anyone, says, ob...|(262144,[98,149,1...|(262144,[98,149,1...|         0|\n|#CameraLord™ • Ko...|            Awesome!|     238.0|          [awesome!]|          [awesome!]|(262144,[488],[1.0])|(262144,[488],[6....|         0|\n|#CameraLord™ • Ko...|Ayeee stand up Ar...|     238.0|[ayeee, stand, up...|[ayeee, stand, ar...|(262144,[13,73,95...|(262144,[13,73,95...|         0|\n|#CameraLord™ • Ko...|Ayyyyyyyyy. Good ...|     238.0|[ayyyyyyyyy., goo...|[ayyyyyyyyy., shi...|(262144,[1613,194...|(262144,[1613,194...|         0|\n|#CameraLord™ • Ko...|         Az rep 💯💪|     238.0|     [az, rep, 💯💪]|              [💯💪]|(262144,[250718],...|(262144,[250718],...|         0|\n+--------------------+--------------------+----------+--------------------+--------------------+--------------------+--------------------+----------+\nonly showing top 20 rows\n\n"
     ]
    }
   ],
   "source": [
    "trainingData.show()"
   ]
  },
  {
   "cell_type": "code",
   "execution_count": null,
   "metadata": {
    "collapsed": true
   },
   "outputs": [],
   "source": [
    "trainingData = trainingData.withColumnRenamed('prediction', 'label')"
   ]
  },
  {
   "cell_type": "code",
   "execution_count": 33,
   "metadata": {
    "collapsed": true
   },
   "outputs": [],
   "source": [
    "trainingData = trainingData.select('features', 'label')\n",
    "trainingData.show()"
   ]
  },
  {
   "cell_type": "code",
   "execution_count": null,
   "metadata": {},
   "outputs": [],
   "source": [
    "\n",
    "\n"
   ]
  }
 ],
 "metadata": {
  "kernelspec": {
   "display_name": "Python 2",
   "language": "python",
   "name": "python2"
  },
  "language_info": {
   "codemirror_mode": {
    "name": "ipython",
    "version": 2
   },
   "file_extension": ".py",
   "mimetype": "text/x-python",
   "name": "python",
   "nbconvert_exporter": "python",
   "pygments_lexer": "ipython2",
   "version": "2.7.6"
  }
 },
 "nbformat": 4,
 "nbformat_minor": 0
}
